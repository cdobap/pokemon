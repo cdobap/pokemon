{
 "cells": [
  {
   "cell_type": "code",
   "execution_count": 1,
   "id": "77a78e07-ea2b-4596-828d-d9cde858f9e8",
   "metadata": {},
   "outputs": [],
   "source": [
    "import json\n",
    "\n",
    "class Database():\n",
    "\n",
    "    def __init__(self):\n",
    "        # \n",
    "        f=open(\"pokedex.json\", \"r\")\n",
    "        pokedex=f.read()\n",
    "        f.close()\n",
    "        del f\n",
    "        self.__pokedex=json.loads(pokedex)\n",
    "        del pokedex\n",
    "        # \n",
    "        f=open(\"types.json\", \"r\")\n",
    "        types=f.read()\n",
    "        f.close()\n",
    "        del f\n",
    "        self.__types=json.loads(types)\n",
    "        del types\n",
    "        #\n",
    "        f=open(\"player.json\", \"r\")\n",
    "        player=f.read()\n",
    "        f.close()\n",
    "        del f\n",
    "        self.__player=json.loads(player)\n",
    "        del player\n",
    "\n",
    "    @property\n",
    "    def pokedex(self):\n",
    "        return self.__pokedex\n",
    "    \n",
    "    @property\n",
    "    def types(self):\n",
    "        return self.__types\n",
    "\n",
    "    @property\n",
    "    def player(self):\n",
    "        return self.__player"
   ]
  },
  {
   "cell_type": "code",
   "execution_count": 17,
   "id": "46ccd1b3-6337-461f-b2f8-e9c8de91c0af",
   "metadata": {},
   "outputs": [
    {
     "data": {
      "text/plain": [
       "[{'id': 1, 'name': 'a', 'pokedex': [1, 2, 3]},\n",
       " {'id': 2, 'name': 'b', 'pokedex': [4, 5, 6]}]"
      ]
     },
     "execution_count": 17,
     "metadata": {},
     "output_type": "execute_result"
    }
   ],
   "source": [
    "db = Database()\n",
    "db.player"
   ]
  },
  {
   "cell_type": "code",
   "execution_count": 3,
   "id": "20bd5b67-67f9-488d-9d48-d9e3ac950787",
   "metadata": {},
   "outputs": [
    {
     "data": {
      "text/plain": [
       "<__main__.Database at 0x7f6a415b7700>"
      ]
     },
     "execution_count": 3,
     "metadata": {},
     "output_type": "execute_result"
    }
   ],
   "source": [
    "db"
   ]
  },
  {
   "cell_type": "code",
   "execution_count": 13,
   "id": "6e622424-c474-41fa-9b49-bfd5cf4fa1b2",
   "metadata": {},
   "outputs": [
    {
     "data": {
      "text/plain": [
       "'a'"
      ]
     },
     "execution_count": 13,
     "metadata": {},
     "output_type": "execute_result"
    }
   ],
   "source": [
    "db.player[0][\"name\"]"
   ]
  },
  {
   "cell_type": "code",
   "execution_count": 15,
   "id": "71907f9b-6199-4294-b270-6f5eedf7fee0",
   "metadata": {},
   "outputs": [
    {
     "data": {
      "text/plain": [
       "809"
      ]
     },
     "execution_count": 15,
     "metadata": {},
     "output_type": "execute_result"
    }
   ],
   "source": [
    "len(db.pokedex)"
   ]
  },
  {
   "cell_type": "code",
   "execution_count": null,
   "id": "c21d0fc8-1b6f-4e7b-b596-f2db96602459",
   "metadata": {},
   "outputs": [],
   "source": []
  }
 ],
 "metadata": {
  "kernelspec": {
   "display_name": "Python 3 (ipykernel)",
   "language": "python",
   "name": "python3"
  },
  "language_info": {
   "codemirror_mode": {
    "name": "ipython",
    "version": 3
   },
   "file_extension": ".py",
   "mimetype": "text/x-python",
   "name": "python",
   "nbconvert_exporter": "python",
   "pygments_lexer": "ipython3",
   "version": "3.10.4"
  }
 },
 "nbformat": 4,
 "nbformat_minor": 5
}
