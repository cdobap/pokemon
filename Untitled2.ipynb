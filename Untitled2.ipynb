{
 "cells": [
  {
   "cell_type": "code",
   "execution_count": 1,
   "id": "a59ee9b7-1efd-433e-8d1c-a0e99e0f27d0",
   "metadata": {},
   "outputs": [],
   "source": [
    "import database\n",
    "import pokemon\n",
    "from random import randrange\n",
    "import json\n",
    "\n",
    "class Player():\n",
    "\n",
    "    def __init__(self):\n",
    "        db = database.Database()        \n",
    "        player_in_db = False\n",
    "        name=input(\"your name: \")\n",
    "        for i in range(len(db.player)):\n",
    "            if name == db.player[i][\"name\"]:\n",
    "                player_in_db = True\n",
    "                j = i\n",
    "\n",
    "        if player_in_db:\n",
    "            self.__name = db.player[j][\"name\"]\n",
    "            self.__pokedex = db.player[j][\"pokedex\"]\n",
    "        else:\n",
    "            self.__name = name\n",
    "            self.__pokedex = [ randrange(1, len(db.pokedex)) for i in range(3) ]\n",
    "            \n",
    "   \n",
    "    @property\n",
    "    def name(self):\n",
    "        return self.__name\n",
    "\n",
    "    @property\n",
    "    def pokedex(self):\n",
    "        return self.__pokedex\n",
    "    \n",
    "    @pokedex.setter\n",
    "    def pokedex(self, id_pokemon):\n",
    "        self.__pokedex.append(id_pokemon)\n",
    "    \n",
    "    def get_pokemon(self, pkmn_id):\n",
    "        return [i for i in self.__pokemons if i.id == pkmn_id][0]\n",
    "\n",
    "    def get_pokemons(self):\n",
    "        return self.__pokemons\n",
    "\n",
    "    def set_pokemons(self):   \n",
    "        self.__pokemons = []\n",
    "        for i in self.__pokedex:            \n",
    "            self.__pokemons.append(pokemon.Pokemon(i))          \n",
    "\n",
    "    @property\n",
    "    def activ_pokemon(self):\n",
    "        return self.__activ_pokemon\n",
    "    \n",
    "    @activ_pokemon.setter\n",
    "    def activ_pokemon(self, activ_pokemon):\n",
    "        self.__activ_pokemon = activ_pokemon\n",
    "        \n",
    "        \n",
    "\n"
   ]
  },
  {
   "cell_type": "code",
   "execution_count": 3,
   "id": "4bf2649c-24bd-4286-ba4e-24817c825944",
   "metadata": {},
   "outputs": [
    {
     "name": "stdin",
     "output_type": "stream",
     "text": [
      "your name:  z\n"
     ]
    }
   ],
   "source": [
    "p = Player()"
   ]
  },
  {
   "cell_type": "code",
   "execution_count": 4,
   "id": "cdc2eaaf-da36-486c-b3b3-c0ef4640237c",
   "metadata": {},
   "outputs": [
    {
     "data": {
      "text/plain": [
       "'z'"
      ]
     },
     "execution_count": 4,
     "metadata": {},
     "output_type": "execute_result"
    }
   ],
   "source": [
    "p.name"
   ]
  },
  {
   "cell_type": "code",
   "execution_count": 5,
   "id": "0ab77464-d9e0-49ff-b5a0-c6f53116cf01",
   "metadata": {},
   "outputs": [
    {
     "data": {
      "text/plain": [
       "[779, 418, 381]"
      ]
     },
     "execution_count": 5,
     "metadata": {},
     "output_type": "execute_result"
    }
   ],
   "source": [
    "p.pokedex"
   ]
  },
  {
   "cell_type": "code",
   "execution_count": 7,
   "id": "7e88813b-3fae-4b5d-96a2-7484ce017ee3",
   "metadata": {},
   "outputs": [
    {
     "name": "stdin",
     "output_type": "stream",
     "text": [
      "your name:  a\n"
     ]
    }
   ],
   "source": [
    "p2 = Player()"
   ]
  },
  {
   "cell_type": "code",
   "execution_count": 9,
   "id": "9fe41bd8-9c9f-40cb-b2d3-857741b29e35",
   "metadata": {},
   "outputs": [
    {
     "data": {
      "text/plain": [
       "'a'"
      ]
     },
     "execution_count": 9,
     "metadata": {},
     "output_type": "execute_result"
    }
   ],
   "source": [
    "p2.name"
   ]
  },
  {
   "cell_type": "code",
   "execution_count": 10,
   "id": "3f4dd523-f087-4fa3-a32b-a94db1589dfe",
   "metadata": {},
   "outputs": [
    {
     "data": {
      "text/plain": [
       "[1, 2, 3]"
      ]
     },
     "execution_count": 10,
     "metadata": {},
     "output_type": "execute_result"
    }
   ],
   "source": [
    "p2.pokedex"
   ]
  },
  {
   "cell_type": "code",
   "execution_count": 13,
   "id": "7bc0a7ec-242d-46b2-8e65-b9eaa0389ea8",
   "metadata": {},
   "outputs": [],
   "source": [
    "p2.set_pokemons()"
   ]
  },
  {
   "cell_type": "code",
   "execution_count": 14,
   "id": "4baab29e-b40b-4636-b56c-0c41dfc8b708",
   "metadata": {},
   "outputs": [
    {
     "data": {
      "text/plain": [
       "[<pokemon.Pokemon at 0x7ff3c83a23e0>,\n",
       " <pokemon.Pokemon at 0x7ff3c83a06a0>,\n",
       " <pokemon.Pokemon at 0x7ff3c8379a80>]"
      ]
     },
     "execution_count": 14,
     "metadata": {},
     "output_type": "execute_result"
    }
   ],
   "source": [
    "p2.get_pokemons()"
   ]
  },
  {
   "cell_type": "code",
   "execution_count": 15,
   "id": "392f3637-0f3c-45f1-92a9-5d353014e7bd",
   "metadata": {},
   "outputs": [
    {
     "data": {
      "text/plain": [
       "<pokemon.Pokemon at 0x7ff3c83a23e0>"
      ]
     },
     "execution_count": 15,
     "metadata": {},
     "output_type": "execute_result"
    }
   ],
   "source": [
    "p2.get_pokemon(1)"
   ]
  },
  {
   "cell_type": "code",
   "execution_count": 16,
   "id": "b12de277-7420-4113-ad49-45018fb20ac5",
   "metadata": {},
   "outputs": [
    {
     "data": {
      "text/plain": [
       "'Bulbizarre'"
      ]
     },
     "execution_count": 16,
     "metadata": {},
     "output_type": "execute_result"
    }
   ],
   "source": [
    "p2.get_pokemon(1).name"
   ]
  },
  {
   "cell_type": "code",
   "execution_count": null,
   "id": "c26ac039-a82b-44f7-9c50-56259d2c7896",
   "metadata": {},
   "outputs": [],
   "source": []
  }
 ],
 "metadata": {
  "kernelspec": {
   "display_name": "Python 3 (ipykernel)",
   "language": "python",
   "name": "python3"
  },
  "language_info": {
   "codemirror_mode": {
    "name": "ipython",
    "version": 3
   },
   "file_extension": ".py",
   "mimetype": "text/x-python",
   "name": "python",
   "nbconvert_exporter": "python",
   "pygments_lexer": "ipython3",
   "version": "3.10.4"
  }
 },
 "nbformat": 4,
 "nbformat_minor": 5
}
