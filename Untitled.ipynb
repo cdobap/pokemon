{
 "cells": [
  {
   "cell_type": "code",
   "execution_count": 2,
   "id": "5a731810-1c28-418c-adb5-678a06aca0d7",
   "metadata": {},
   "outputs": [],
   "source": [
    "from random import randrange"
   ]
  },
  {
   "cell_type": "code",
   "execution_count": 3,
   "id": "99aebcac-8f4c-474f-82a7-f2d2aba062b4",
   "metadata": {},
   "outputs": [],
   "source": [
    "li = [ randrange(1, 810) for i in range(3) ]"
   ]
  },
  {
   "cell_type": "code",
   "execution_count": 4,
   "id": "b9b03421-2e4c-462b-a2ea-fa9b35407791",
   "metadata": {},
   "outputs": [
    {
     "data": {
      "text/plain": [
       "[39, 71, 173]"
      ]
     },
     "execution_count": 4,
     "metadata": {},
     "output_type": "execute_result"
    }
   ],
   "source": [
    "li"
   ]
  },
  {
   "cell_type": "code",
   "execution_count": 5,
   "id": "890d5c72-e56a-467c-91e6-fc127a4ad416",
   "metadata": {},
   "outputs": [],
   "source": [
    "import database"
   ]
  },
  {
   "cell_type": "code",
   "execution_count": 8,
   "id": "1bbfefc5-05f9-4343-8282-db919ae079cb",
   "metadata": {},
   "outputs": [],
   "source": [
    "db = database.Database()"
   ]
  },
  {
   "cell_type": "code",
   "execution_count": 11,
   "id": "7139f2a5-65df-47cf-8489-227d208656c0",
   "metadata": {},
   "outputs": [
    {
     "ename": "SyntaxError",
     "evalue": "invalid syntax (1575004044.py, line 1)",
     "output_type": "error",
     "traceback": [
      "\u001b[0;36m  Input \u001b[0;32mIn [11]\u001b[0;36m\u001b[0m\n\u001b[0;31m    if \"a\" in db.player[i for i in range(len(db.player))]:\u001b[0m\n\u001b[0m                          ^\u001b[0m\n\u001b[0;31mSyntaxError\u001b[0m\u001b[0;31m:\u001b[0m invalid syntax\n"
     ]
    }
   ],
   "source": [
    "if \"a\" in db.player[i for i in range(len(db.player))]:\n",
    "    print(\"y\")"
   ]
  },
  {
   "cell_type": "code",
   "execution_count": null,
   "id": "f3070db6-3f41-49fc-ad0d-2e886d339f92",
   "metadata": {},
   "outputs": [],
   "source": []
  }
 ],
 "metadata": {
  "kernelspec": {
   "display_name": "Python 3 (ipykernel)",
   "language": "python",
   "name": "python3"
  },
  "language_info": {
   "codemirror_mode": {
    "name": "ipython",
    "version": 3
   },
   "file_extension": ".py",
   "mimetype": "text/x-python",
   "name": "python",
   "nbconvert_exporter": "python",
   "pygments_lexer": "ipython3",
   "version": "3.10.4"
  }
 },
 "nbformat": 4,
 "nbformat_minor": 5
}
