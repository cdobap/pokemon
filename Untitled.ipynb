{
 "cells": [
  {
   "cell_type": "code",
   "execution_count": 2,
   "id": "5a731810-1c28-418c-adb5-678a06aca0d7",
   "metadata": {},
   "outputs": [],
   "source": [
    "from random import randrange"
   ]
  },
  {
   "cell_type": "code",
   "execution_count": 3,
   "id": "99aebcac-8f4c-474f-82a7-f2d2aba062b4",
   "metadata": {},
   "outputs": [],
   "source": [
    "li = [ randrange(1, 810) for i in range(3) ]"
   ]
  },
  {
   "cell_type": "code",
   "execution_count": 4,
   "id": "b9b03421-2e4c-462b-a2ea-fa9b35407791",
   "metadata": {},
   "outputs": [
    {
     "data": {
      "text/plain": [
       "[39, 71, 173]"
      ]
     },
     "execution_count": 4,
     "metadata": {},
     "output_type": "execute_result"
    }
   ],
   "source": [
    "li"
   ]
  },
  {
   "cell_type": "code",
   "execution_count": 5,
   "id": "890d5c72-e56a-467c-91e6-fc127a4ad416",
   "metadata": {},
   "outputs": [],
   "source": [
    "import database"
   ]
  },
  {
   "cell_type": "code",
   "execution_count": 8,
   "id": "1bbfefc5-05f9-4343-8282-db919ae079cb",
   "metadata": {},
   "outputs": [],
   "source": [
    "db = database.Database()"
   ]
  },
  {
   "cell_type": "code",
   "execution_count": 11,
   "id": "7139f2a5-65df-47cf-8489-227d208656c0",
   "metadata": {},
   "outputs": [
    {
     "ename": "SyntaxError",
     "evalue": "invalid syntax (1575004044.py, line 1)",
     "output_type": "error",
     "traceback": [
      "\u001b[0;36m  Input \u001b[0;32mIn [11]\u001b[0;36m\u001b[0m\n\u001b[0;31m    if \"a\" in db.player[i for i in range(len(db.player))]:\u001b[0m\n\u001b[0m                          ^\u001b[0m\n\u001b[0;31mSyntaxError\u001b[0m\u001b[0;31m:\u001b[0m invalid syntax\n"
     ]
    }
   ],
   "source": [
    "if \"a\" in db.player[i for i in range(len(db.player))]:\n",
    "    print(\"y\")"
   ]
  },
  {
   "cell_type": "code",
   "execution_count": null,
   "id": "f3070db6-3f41-49fc-ad0d-2e886d339f92",
   "metadata": {},
   "outputs": [],
   "source": []
  },
  {
   "cell_type": "code",
   "execution_count": null,
   "id": "c06b6c62-0c32-43f7-879b-05e2877e0608",
   "metadata": {},
   "outputs": [],
   "source": []
  },
  {
   "cell_type": "code",
   "execution_count": null,
   "id": "230e9963-0a61-4523-888d-62a5ba7b3b61",
   "metadata": {},
   "outputs": [],
   "source": []
  },
  {
   "cell_type": "code",
   "execution_count": 22,
   "id": "39ac864d-2a5e-4de1-993d-ba964837c595",
   "metadata": {},
   "outputs": [],
   "source": [
    "class pokemon():\n",
    "    \n",
    "    name=\"\"\n",
    "    hp=\"\"\n",
    "    \n",
    "    def get_name(self):\n",
    "        return self.name\n",
    "    \n",
    "    def set_name(self, var_name):\n",
    "        self.name = var_name\n",
    "    \n",
    "    def attack(self):\n",
    "        print(self.name + \" attaque\")\n",
    "        "
   ]
  },
  {
   "cell_type": "code",
   "execution_count": 23,
   "id": "6ae23588-b80b-4c26-b2a6-69c9dacb94fa",
   "metadata": {},
   "outputs": [],
   "source": [
    "pikachu=pokemon()"
   ]
  },
  {
   "cell_type": "code",
   "execution_count": 24,
   "id": "f54ccd05-ecd0-4ced-b5f3-3bad79c36ae5",
   "metadata": {},
   "outputs": [
    {
     "name": "stdout",
     "output_type": "stream",
     "text": [
      "\n",
      "\n"
     ]
    }
   ],
   "source": [
    "print(pikachu.name)\n",
    "print(pikachu.hp)"
   ]
  },
  {
   "cell_type": "code",
   "execution_count": 26,
   "id": "8e3e4c5b-26b4-4c09-8f2b-521fccdb37ac",
   "metadata": {},
   "outputs": [],
   "source": [
    "pikachu.set_name(\"Pikachu\")"
   ]
  },
  {
   "cell_type": "code",
   "execution_count": 27,
   "id": "1f2dd48e-bb74-4112-b439-82e120dc9a3c",
   "metadata": {},
   "outputs": [
    {
     "data": {
      "text/plain": [
       "'Pikachu'"
      ]
     },
     "execution_count": 27,
     "metadata": {},
     "output_type": "execute_result"
    }
   ],
   "source": [
    "pikachu.get_name()"
   ]
  },
  {
   "cell_type": "code",
   "execution_count": 28,
   "id": "81e7f538-f65d-4e8e-891f-2a19d783ac37",
   "metadata": {},
   "outputs": [
    {
     "name": "stdout",
     "output_type": "stream",
     "text": [
      "Pikachu attaque\n"
     ]
    }
   ],
   "source": [
    "pikachu.attack()"
   ]
  },
  {
   "cell_type": "code",
   "execution_count": 29,
   "id": "41100752-1197-441c-a50e-16e8e13e4cd3",
   "metadata": {},
   "outputs": [],
   "source": [
    "salameche=pokemon()"
   ]
  },
  {
   "cell_type": "code",
   "execution_count": 33,
   "id": "07fcf953-a0a2-4b17-8fda-0387bd73444e",
   "metadata": {},
   "outputs": [
    {
     "name": "stdout",
     "output_type": "stream",
     "text": [
      "Salameche attaque\n"
     ]
    }
   ],
   "source": [
    "salameche.attack()"
   ]
  },
  {
   "cell_type": "code",
   "execution_count": 32,
   "id": "6eb127ac-91bc-4652-a6d7-938d87e84eef",
   "metadata": {},
   "outputs": [],
   "source": [
    "salameche.set_name(\"Salameche\")"
   ]
  },
  {
   "cell_type": "code",
   "execution_count": null,
   "id": "8cd58bce-7836-4fc6-8584-a73fedb93bcd",
   "metadata": {},
   "outputs": [],
   "source": []
  }
 ],
 "metadata": {
  "kernelspec": {
   "display_name": "Python 3 (ipykernel)",
   "language": "python",
   "name": "python3"
  },
  "language_info": {
   "codemirror_mode": {
    "name": "ipython",
    "version": 3
   },
   "file_extension": ".py",
   "mimetype": "text/x-python",
   "name": "python",
   "nbconvert_exporter": "python",
   "pygments_lexer": "ipython3",
   "version": "3.10.4"
  }
 },
 "nbformat": 4,
 "nbformat_minor": 5
}
