{
 "cells": [
  {
   "cell_type": "code",
   "execution_count": 2,
   "id": "5a731810-1c28-418c-adb5-678a06aca0d7",
   "metadata": {},
   "outputs": [],
   "source": [
    "from random import randrange"
   ]
  },
  {
   "cell_type": "code",
   "execution_count": 3,
   "id": "99aebcac-8f4c-474f-82a7-f2d2aba062b4",
   "metadata": {},
   "outputs": [],
   "source": [
    "li = [ randrange(1, 810) for i in range(3) ]"
   ]
  },
  {
   "cell_type": "code",
   "execution_count": 4,
   "id": "b9b03421-2e4c-462b-a2ea-fa9b35407791",
   "metadata": {},
   "outputs": [
    {
     "data": {
      "text/plain": [
       "[39, 71, 173]"
      ]
     },
     "execution_count": 4,
     "metadata": {},
     "output_type": "execute_result"
    }
   ],
   "source": [
    "li"
   ]
  },
  {
   "cell_type": "code",
   "execution_count": 5,
   "id": "890d5c72-e56a-467c-91e6-fc127a4ad416",
   "metadata": {},
   "outputs": [],
   "source": [
    "import database"
   ]
  },
  {
   "cell_type": "code",
   "execution_count": 8,
   "id": "1bbfefc5-05f9-4343-8282-db919ae079cb",
   "metadata": {},
   "outputs": [],
   "source": [
    "db = database.Database()"
   ]
  },
  {
   "cell_type": "code",
   "execution_count": null,
   "id": "f3070db6-3f41-49fc-ad0d-2e886d339f92",
   "metadata": {},
   "outputs": [],
   "source": []
  },
  {
   "cell_type": "code",
   "execution_count": null,
   "id": "c06b6c62-0c32-43f7-879b-05e2877e0608",
   "metadata": {},
   "outputs": [],
   "source": []
  },
  {
   "cell_type": "code",
   "execution_count": null,
   "id": "230e9963-0a61-4523-888d-62a5ba7b3b61",
   "metadata": {},
   "outputs": [],
   "source": []
  },
  {
   "cell_type": "code",
   "execution_count": 34,
   "id": "39ac864d-2a5e-4de1-993d-ba964837c595",
   "metadata": {},
   "outputs": [],
   "source": [
    "class pokemon():\n",
    "    \n",
    "    name=\"\"\n",
    "    hp=\"\"\n",
    "    \n",
    "    def get_name(self):\n",
    "        return self.name\n",
    "    \n",
    "    def set_name(self, var_name):\n",
    "        self.name = var_name\n",
    "    \n",
    "    def attack(self):\n",
    "        print(self.name + \" attaque\")\n",
    "        "
   ]
  },
  {
   "cell_type": "code",
   "execution_count": 23,
   "id": "6ae23588-b80b-4c26-b2a6-69c9dacb94fa",
   "metadata": {},
   "outputs": [],
   "source": [
    "pikachu=pokemon()"
   ]
  },
  {
   "cell_type": "code",
   "execution_count": 24,
   "id": "f54ccd05-ecd0-4ced-b5f3-3bad79c36ae5",
   "metadata": {},
   "outputs": [
    {
     "name": "stdout",
     "output_type": "stream",
     "text": [
      "\n",
      "\n"
     ]
    }
   ],
   "source": [
    "print(pikachu.name)\n",
    "print(pikachu.hp)"
   ]
  },
  {
   "cell_type": "code",
   "execution_count": 26,
   "id": "8e3e4c5b-26b4-4c09-8f2b-521fccdb37ac",
   "metadata": {},
   "outputs": [],
   "source": [
    "pikachu.set_name(\"Pikachu\")"
   ]
  },
  {
   "cell_type": "code",
   "execution_count": 27,
   "id": "1f2dd48e-bb74-4112-b439-82e120dc9a3c",
   "metadata": {},
   "outputs": [
    {
     "data": {
      "text/plain": [
       "'Pikachu'"
      ]
     },
     "execution_count": 27,
     "metadata": {},
     "output_type": "execute_result"
    }
   ],
   "source": [
    "pikachu.get_name()"
   ]
  },
  {
   "cell_type": "code",
   "execution_count": 28,
   "id": "81e7f538-f65d-4e8e-891f-2a19d783ac37",
   "metadata": {},
   "outputs": [
    {
     "name": "stdout",
     "output_type": "stream",
     "text": [
      "Pikachu attaque\n"
     ]
    }
   ],
   "source": [
    "pikachu.attack()"
   ]
  },
  {
   "cell_type": "code",
   "execution_count": 29,
   "id": "41100752-1197-441c-a50e-16e8e13e4cd3",
   "metadata": {},
   "outputs": [],
   "source": [
    "salameche=pokemon()"
   ]
  },
  {
   "cell_type": "code",
   "execution_count": 33,
   "id": "07fcf953-a0a2-4b17-8fda-0387bd73444e",
   "metadata": {},
   "outputs": [
    {
     "name": "stdout",
     "output_type": "stream",
     "text": [
      "Salameche attaque\n"
     ]
    }
   ],
   "source": [
    "salameche.attack()"
   ]
  },
  {
   "cell_type": "code",
   "execution_count": 32,
   "id": "6eb127ac-91bc-4652-a6d7-938d87e84eef",
   "metadata": {},
   "outputs": [],
   "source": [
    "salameche.set_name(\"Salameche\")"
   ]
  },
  {
   "cell_type": "code",
   "execution_count": null,
   "id": "8cd58bce-7836-4fc6-8584-a73fedb93bcd",
   "metadata": {},
   "outputs": [],
   "source": []
  },
  {
   "cell_type": "code",
   "execution_count": 1,
   "id": "44b8c721-2702-4be9-a731-ef671d301137",
   "metadata": {},
   "outputs": [
    {
     "data": {
      "text/plain": [
       "[('kevin', 9), ('antoine', 18), ('julien', 42)]"
      ]
     },
     "execution_count": 1,
     "metadata": {},
     "output_type": "execute_result"
    }
   ],
   "source": [
    "li = [('antoine', 18), ('julien', 42), ('kevin', 9)]\n",
    "sorted(li, key=lambda x: x[1])\n"
   ]
  },
  {
   "cell_type": "code",
   "execution_count": 10,
   "id": "ba552ab7-0ead-484d-b398-c093d126d587",
   "metadata": {},
   "outputs": [
    {
     "name": "stdout",
     "output_type": "stream",
     "text": [
      "10\n"
     ]
    }
   ],
   "source": [
    "lambda x: x[1]\n",
    "print(x(0))"
   ]
  },
  {
   "cell_type": "code",
   "execution_count": 11,
   "id": "8fa6ddf5-ed81-4719-b676-743c5faf7271",
   "metadata": {},
   "outputs": [
    {
     "name": "stdout",
     "output_type": "stream",
     "text": [
      "15\n"
     ]
    }
   ],
   "source": [
    "x = lambda a : a + 10\n",
    "print(x(5)) "
   ]
  },
  {
   "cell_type": "code",
   "execution_count": 12,
   "id": "d230d42d-e903-4b96-af7e-9a67339b4fd0",
   "metadata": {},
   "outputs": [
    {
     "name": "stdout",
     "output_type": "stream",
     "text": [
      "13\n"
     ]
    }
   ],
   "source": [
    "x = lambda a, b, c : a + b + c\n",
    "print(x(5, 6, 2)) "
   ]
  },
  {
   "cell_type": "code",
   "execution_count": 15,
   "id": "40cfa88c-bd75-4a0f-91f1-c237a72b1be1",
   "metadata": {},
   "outputs": [
    {
     "name": "stdout",
     "output_type": "stream",
     "text": [
      "22\n"
     ]
    }
   ],
   "source": [
    "def myfunc(n):\n",
    "  return lambda a : a * n\n",
    "\n",
    "mydoubler = myfunc(2)\n",
    "\n",
    "print(mydoubler(11))"
   ]
  },
  {
   "cell_type": "code",
   "execution_count": 26,
   "id": "10f5e61f-3e03-4f0f-a731-fc0513c42d25",
   "metadata": {},
   "outputs": [],
   "source": [
    "def myfunc(n):\n",
    "  return len(n)\n",
    "\n",
    "x = map(lambda x: len(x), ('apple', 'banana', 'cherry')) "
   ]
  },
  {
   "cell_type": "code",
   "execution_count": 27,
   "id": "ff14bb9b-8d44-4f61-890c-687bf3e82f80",
   "metadata": {},
   "outputs": [
    {
     "data": {
      "text/plain": [
       "<map at 0x7f8050732320>"
      ]
     },
     "execution_count": 27,
     "metadata": {},
     "output_type": "execute_result"
    }
   ],
   "source": [
    "x"
   ]
  },
  {
   "cell_type": "code",
   "execution_count": 28,
   "id": "256f180c-5cda-404d-ac8e-3e8024d1325e",
   "metadata": {},
   "outputs": [
    {
     "name": "stdout",
     "output_type": "stream",
     "text": [
      "[5, 6, 6]\n"
     ]
    }
   ],
   "source": [
    "print(list(x))"
   ]
  },
  {
   "cell_type": "code",
   "execution_count": 61,
   "id": "e0c5deff-e3cc-49ba-b046-3eb0cefed065",
   "metadata": {},
   "outputs": [],
   "source": [
    "l = lambda i, j, k : [len(i),len(j),len(k)]"
   ]
  },
  {
   "cell_type": "code",
   "execution_count": 62,
   "id": "8d07c81a-4e22-426a-a838-9fbb3e67b6d8",
   "metadata": {},
   "outputs": [
    {
     "name": "stdout",
     "output_type": "stream",
     "text": [
      "[4, 1, 2]\n"
     ]
    }
   ],
   "source": [
    "print(l(\"azer\",\"t\",\"tt\"))"
   ]
  },
  {
   "cell_type": "code",
   "execution_count": 64,
   "id": "edecfd8c-e07e-4875-a034-2e54fcfea95a",
   "metadata": {},
   "outputs": [],
   "source": [
    "m = map(lambda i: len(i), [\"azer\",\"t\",\"tt\"])"
   ]
  },
  {
   "cell_type": "code",
   "execution_count": 65,
   "id": "9cc7fa59-76d9-4a9c-9709-f299532be549",
   "metadata": {},
   "outputs": [
    {
     "name": "stdout",
     "output_type": "stream",
     "text": [
      "[4, 1, 2]\n"
     ]
    }
   ],
   "source": [
    "print(list(m))"
   ]
  },
  {
   "cell_type": "code",
   "execution_count": null,
   "id": "750fdd68-f3f1-4343-a2e7-38b3a2f7e3ad",
   "metadata": {},
   "outputs": [],
   "source": []
  },
  {
   "cell_type": "code",
   "execution_count": null,
   "id": "ce18b9e1-1b3b-4437-8bc2-6ac8a077fae9",
   "metadata": {},
   "outputs": [],
   "source": []
  },
  {
   "cell_type": "code",
   "execution_count": 66,
   "id": "8b1948ca-ba1d-4286-8a34-62c0851e4612",
   "metadata": {},
   "outputs": [],
   "source": [
    "def myfunc(a, b):\n",
    "  return a + b\n",
    "\n",
    "x = map(myfunc, ('apple', 'banana', 'cherry'), ('orange', 'lemon', 'pineapple')) "
   ]
  },
  {
   "cell_type": "code",
   "execution_count": 67,
   "id": "fc3cc6d0-530e-4a67-9600-943e0150ea38",
   "metadata": {},
   "outputs": [
    {
     "name": "stdout",
     "output_type": "stream",
     "text": [
      "['appleorange', 'bananalemon', 'cherrypineapple']\n"
     ]
    }
   ],
   "source": [
    "print(list(x))"
   ]
  },
  {
   "cell_type": "code",
   "execution_count": null,
   "id": "27978315-d7e7-42cc-babd-ae5212e77f6f",
   "metadata": {},
   "outputs": [],
   "source": []
  },
  {
   "cell_type": "code",
   "execution_count": 68,
   "id": "6f8a30e9-4d1a-45f6-9ee3-b08f1a82a37e",
   "metadata": {},
   "outputs": [],
   "source": [
    "m = map(lambda w, c : w + c, ('apple', 'banana', 'cherry'), ('orange', 'lemon', 'pineapple'))"
   ]
  },
  {
   "cell_type": "code",
   "execution_count": 69,
   "id": "588fbdac-960c-4193-9faa-78eb10a01c19",
   "metadata": {},
   "outputs": [
    {
     "name": "stdout",
     "output_type": "stream",
     "text": [
      "['appleorange', 'bananalemon', 'cherrypineapple']\n"
     ]
    }
   ],
   "source": [
    "print(list(m))"
   ]
  },
  {
   "cell_type": "code",
   "execution_count": null,
   "id": "0c4f0674-c2a9-4dc6-897c-d9e72315a8bd",
   "metadata": {},
   "outputs": [],
   "source": []
  },
  {
   "cell_type": "code",
   "execution_count": 109,
   "id": "d778825d-c907-4583-a2c3-2f0c029f4db6",
   "metadata": {},
   "outputs": [],
   "source": [
    "import json"
   ]
  },
  {
   "cell_type": "code",
   "execution_count": 110,
   "id": "717f9b2b-996b-4bf7-a437-40f8af09dffa",
   "metadata": {},
   "outputs": [],
   "source": [
    "f = open(\"player.json\", \"r\")\n",
    "a = f.read()"
   ]
  },
  {
   "cell_type": "code",
   "execution_count": 111,
   "id": "84643bbc-36b2-4bf0-bea9-db8bfbb115fb",
   "metadata": {},
   "outputs": [
    {
     "data": {
      "text/plain": [
       "'[\\n    {\\n        \"id\": 1,\\n        \"name\": \"a\",\\n        \"pokedex\": [1, 2, 3]\\n    },\\n    {\\n        \"id\": 2,\\n        \"name\": \"b\",\\n        \"pokedex\": [4, 5, 6]\\n    }\\n]'"
      ]
     },
     "execution_count": 111,
     "metadata": {},
     "output_type": "execute_result"
    }
   ],
   "source": [
    "a"
   ]
  },
  {
   "cell_type": "code",
   "execution_count": 112,
   "id": "4a903254-00dc-4101-991d-c648374ce95b",
   "metadata": {},
   "outputs": [],
   "source": [
    "a = json.loads(a)"
   ]
  },
  {
   "cell_type": "code",
   "execution_count": 113,
   "id": "ec52f084-8e89-4971-bb37-cb455a81d874",
   "metadata": {},
   "outputs": [
    {
     "data": {
      "text/plain": [
       "[{'id': 1, 'name': 'a', 'pokedex': [1, 2, 3]},\n",
       " {'id': 2, 'name': 'b', 'pokedex': [4, 5, 6]}]"
      ]
     },
     "execution_count": 113,
     "metadata": {},
     "output_type": "execute_result"
    }
   ],
   "source": [
    "a"
   ]
  },
  {
   "cell_type": "code",
   "execution_count": null,
   "id": "f567e6dc-0db4-4bde-91e3-14eaadcc2d2d",
   "metadata": {},
   "outputs": [],
   "source": []
  }
 ],
 "metadata": {
  "kernelspec": {
   "display_name": "Python 3 (ipykernel)",
   "language": "python",
   "name": "python3"
  },
  "language_info": {
   "codemirror_mode": {
    "name": "ipython",
    "version": 3
   },
   "file_extension": ".py",
   "mimetype": "text/x-python",
   "name": "python",
   "nbconvert_exporter": "python",
   "pygments_lexer": "ipython3",
   "version": "3.10.4"
  }
 },
 "nbformat": 4,
 "nbformat_minor": 5
}
